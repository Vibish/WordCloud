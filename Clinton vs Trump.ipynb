{
 "cells": [
  {
   "cell_type": "code",
   "execution_count": 11,
   "metadata": {
    "collapsed": false
   },
   "outputs": [
    {
     "name": "stdout",
     "output_type": "stream",
     "text": [
      "['the', 'to', 'of', 'I', 'that', 'and', 'a', 'you', 'in', 'have', 'is', 'we', '--', 'And', 'it', 'going', 'TRUMP:', 'WALLACE:', 'are', 'for', 'on', 'our', 'be', 'they', 'will', 'what', 'with', 'CLINTON:', 'people', 'this', 'was', 'not', 'he', 'But', 'do', 'has', 'about', 'We', 'because', 'want', 'think', 'as', 'very', 'country', 'all', 'get', 'been', 'she', 'at', 'just', 'so', 'Well,', 'up', 'You', 'from', 'out', 'said', \"it's\", 'me', 'but', 'who', 'your', \"don't\", 'So', 'Secretary', 'would', 'Mr', 'should', 'by', 'when', \"we're\", 'make', 'right', 'go', 'her', 'more', 'He', 'say', 'them', 'The', 'know', \"I'm\", 'women', 'or', 'if', 'way', 'which', 'one', 'there', 'did', 'can', 'take', 'where', 'were', 'many', \"that's\", 'like', 'know,', 'an', 'jobs', 'no', 'They', 'into', 'Donald', 'these', 'look', 'now', 'let', 'my', 'see', \"It's\", 'money', 'other', 'back', 'how', 'Trump', \"We're\", 'than', 'after', 'years', 'why', 'Clinton', 'us', 'his', 'need', 'Clinton,', 'their', 'against', 'great', 'Mosul', 'last', 'first', 'Trump,', 'some', 'had', 'plan', 'president', \"I've\", 'even', \"That's\", 'percent', 'really', 'got', 'come', 'Second', 'believe', 'She', 'American', \"they're\", 'over']\n"
     ]
    }
   ],
   "source": [
    "\n",
    "from nltk.corpus import stopwords\n",
    "s=set(stopwords.words('english'))\n",
    "file = open('clinton debate.txt','r')\n",
    "content = file.read()\n",
    "words = content.split('.')\n",
    "#words2 = words.split()\n",
    "words21 = ' '.join(words)\n",
    "words3 = words21.split()\n",
    "import nltk\n",
    "fdist1 = nltk.FreqDist(words3)\n",
    "common = fdist1.most_common(150)\n",
    "words4=[]\n",
    "for tuple in common:\n",
    "    words4.append(tuple[0])\n",
    "print (words4)"
   ]
  },
  {
   "cell_type": "code",
   "execution_count": 12,
   "metadata": {
    "collapsed": false
   },
   "outputs": [
    {
     "name": "stdout",
     "output_type": "stream",
     "text": [
      "['the', 'to', 'of', 'I', 'that', 'and', 'a', 'you', 'in', 'have', 'is', 'we', '--', 'And', 'it', 'going', 'TRUMP:', 'WALLACE:', 'are', 'for', 'on', 'our', 'be', 'they', 'will', 'what', 'with', 'CLINTON:', 'people', 'this', 'was', 'not', 'he', 'But', 'do', 'has', 'about', 'We', 'because', 'want', 'think', 'as', 'very', 'country', 'all', 'get', 'been', 'she', 'at', 'just', 'so', 'Well,', 'up', 'You', 'from', 'out', 'said', \"it's\", 'me', 'but', 'who', 'your', \"don't\", 'So', 'Secretary', 'would', 'Mr', 'should', 'by', 'when', \"we're\", 'make', 'right', 'go', 'her', 'more', 'He', 'say', 'them', 'The', 'know', \"I'm\", 'women', 'or', 'if', 'way', 'which', 'one', 'there', 'did', 'can', 'take', 'where', 'were', 'many', \"that's\", 'like', 'know,', 'an', 'jobs', 'no', 'They', 'into', 'Donald', 'these', 'look', 'now', 'let', 'my', 'see', \"It's\", 'money', 'other', 'back', 'how', 'Trump', \"We're\", 'than', 'after', 'years', 'why', 'Clinton', 'us', 'his', 'need', 'Clinton,', 'their', 'against', 'great', 'Mosul', 'last', 'first', 'Trump,', 'some', 'had', 'plan', 'president', \"I've\", 'even', \"That's\", 'percent', 'really', 'got', 'come', 'Second', 'believe', 'She', 'American', \"they're\", 'over', 'help', 'This', 'kind', 'Obama', 'talk', 'you,', 'am', \"what's\", 'lot', 'is,', 'work', 'tax', \"We've\", 'question', 'any', 'wants', 'tell', 'President', 'went', 'bad', 'Amendment', 'In', 'Hillary', 'If', 'much', 'Putin', 'ISIS', 'two', 'also', 'millions', 'fact,', \"you're\", 'could', 'United', 'Syria', 'government', 'ask', 'then', 'those', 'borders', 'trade', 'big', 'pay', 'America', 'time', 'made', 'open', 'never', 'that,', 'border', 'saying', 'nuclear', 'Now,', 'Chris,', \"didn't\", 'It', 'things', 'clear', 'That', 'happened', \"she's\", 'give', 'court', 'it,', 'world', 'actually', 'million', \"we've\", 'good', 'States', 'economy', 'ever', 'All', 'doing', 'run', 'both', 'minutes', 'campaign', 'put', 'Iran', 'thing', 'everybody', 'disaster', 'deal', 'national', 'all,', 'end', 'wall', 'election', \"he's\", 'before', \"I'd\", 'wanted', 'started', 'Russia', \"can't\", '(CROSSTALK)', 'every', 'stand', 'start']\n"
     ]
    }
   ],
   "source": [
    "common = fdist1.most_common(250)\n",
    "words4=[]\n",
    "for tuple in common:\n",
    "    words4.append(tuple[0])\n",
    "print (words4)"
   ]
  },
  {
   "cell_type": "code",
   "execution_count": 13,
   "metadata": {
    "collapsed": true
   },
   "outputs": [],
   "source": [
    "words5=['the', 'to', 'of', 'I', 'that', 'and', 'a', 'you', 'in', 'have', 'is', 'we', '--', 'And', 'it', 'going', 'TRUMP:', 'WALLACE:', 'are', 'for', 'on', 'our', 'be', 'they', 'will', 'what', 'with', 'CLINTON:', 'people', 'this', 'was', 'not', 'he', 'But', 'do', 'has', 'about', 'We', 'because', 'want', 'think', 'as', 'very', 'country', 'all', 'get', 'been', 'at', 'she', 'just', 'Well,', 'so', 'out', 'You', 'up', 'from', 'said', 'me', \"it's\", 'who', 'but', 'your', \"don't\", 'So', 'Secretary', 'would', 'Mr', 'by', 'should', \"we're\", 'when', 'make', 'right', 'go', 'He', 'more', 'her', 'say', 'them', 'The', 'know', \"I'm\", 'if', 'or', 'way', 'there', 'which', 'one', 'did', 'take', 'can', 'where', 'were', \"that's\", 'many', 'an', 'no', 'know,',  'like', 'let', 'look', 'now', 'into', 'Donald', 'these', 'They', \"It's\", 'Trump', 'other', 'back', 'see', 'how', 'my', 'money', 'than', \"We're\", 'Clinton', 'years', 'why', 'after', 'against', 'his', 'need', 'Clinton,', 'their', 'us', 'some', 'great', 'Trump,', 'first', 'last', 'president', 'percent', 'plan', 'had', 'even', \"I've\", \"That's\", 'believe', 'got', 'really', 'She', 'come', \"they're\", 'American', 'help', 'over', 'talk', 'kind', 'This', 'you,', 'am', 'is,', 'question', \"what's\", \"We've\", 'work', 'lot', 'wants', 'any', 'much', 'President', 'went', 'If', 'tell', 'Hillary', 'In', 'two', 'fact,', \"you're\",  'could', 'also', 'ask', 'never', 'time', 'America', 'made', 'government', 'then','that,',  'those', 'saying',  'That', \"she's\", 'clear', 'happened', 'give', 'things', 'Now,', 'Chris,', \"didn't\", 'It', 'ever', \"we've\", 'doing', 'run', 'good', 'States', 'All', 'both', 'minutes', 'actually',  'it,', 'all,', 'everybody', 'end', 'thing',  'started', 'wanted',  \"I'd\", \"he's\", 'before',   'And,',   'anything', \"can't\", 'something','every','said','done','well','sure','making','Because','important','OK','keep','final','Let','sir','sir,''What','taking','v','given','since','next','number','decision','gave',\"They're\",'them,','means','goes','heard','put',\"doesn't\",'strongly','new','fact','better','tremendous','another','said',\"I'll\",'start','big','seen','Our','getting','move','stand','Hold','took','New','on,''say,','Take','bring','stage','small','find','mean,','What','sir,','thank','either','now,']"
   ]
  },
  {
   "cell_type": "code",
   "execution_count": 14,
   "metadata": {
    "collapsed": false
   },
   "outputs": [
    {
     "name": "stdout",
     "output_type": "stream",
     "text": [
      "[('women', 32), ('jobs', 28), ('Mosul', 22), ('Second', 20), ('Obama', 18), ('tax', 17), ('Amendment', 16), ('bad', 16), ('Putin', 15), ('millions', 15), ('ISIS', 15), ('United', 15), ('Syria', 14), ('trade', 14), ('pay', 14), ('border', 14), ('borders', 14), ('open', 14), ('nuclear', 13), ('economy', 12), ('court', 12), ('world', 12), ('million', 12), ('national', 11), ('campaign', 11), ('Iran', 11), ('wall', 11), ('election', 11), ('disaster', 11), ('deal', 11), ('Russia', 10), ('justices', 10), ('debt', 10), ('use', 10), ('create', 10), ('(CROSSTALK)', 10), ('\"', 10), ('undocumented', 9), ('Haiti', 9), ('said,', 9), ('countries', 9), ('issue', 9), ('taxes', 9), ('deals', 9), ('came', 9), ('defend', 9), ('families', 9), ('There', 8), ('Security', 8), ('different', 8), ('idea', 8), ('Social', 8), ('Iraq', 8), ('Supreme', 8), ('respect', 8), ('billion', 8), ('growth', 8), ('immigrants', 8), ('10', 8), ('care', 8), ('three', 8), ('rights', 8), ('protect', 8), ('Iraq,', 8), ('business', 7), ('day', 7), ('Aleppo', 7), ('Roe', 7), ('law', 7), ('strong', 7), ('weapons', 7), ('continue', 7), ('federal', 7), ('everything', 7), ('decisions', 7), ('Nobody', 7), ('people,', 7), ('terrible', 7), ('biggest', 7), ('laws', 7), ('Russians', 7), ('forward', 7), ('debate', 7), ('military', 7), ('health', 7), ('gun', 7), ('husband', 7), ('feel', 7), ('says', 6), ('plan,', 6), ('year', 6), ('frankly,', 6), ('immigration', 6), ('rid', 6), ('outsmarted', 6), ('Constitution', 6), ('rigged', 6), ('very,', 6), ('thinks', 6), ('debt,', 6), ('massive', 6), ('growing', 6), ('signed', 6), ('system', 6), ('absolutely', 6), ('Obamacare', 6), ('100', 6), ('college', 6), ('around', 6), ('support', 6), ('used', 6), ('ways', 6), ('Senate', 6), ('trillion', 6), ('may', 6), (\"They've\", 6), ('up,', 6), ('violence', 6), ('tougher', 6), ('guns', 6), ('anybody', 6), ('raise', 6), ('say,', 6), ('conflict', 6), ('Clinton?', 6)]\n"
     ]
    }
   ],
   "source": [
    "words6 = [word for word in words3 if word not in words5]\n",
    "words7 = [word for word in words6 if word not in s]\n",
    "fdist2 = nltk.FreqDist(words7)\n",
    "print (fdist2.most_common(125))"
   ]
  },
  {
   "cell_type": "code",
   "execution_count": 15,
   "metadata": {
    "collapsed": false
   },
   "outputs": [],
   "source": [
    "from wordcloud import WordCloud, STOPWORDS\n",
    "import matplotlib.pyplot as plt\n",
    "final2 = ' '.join(words7)    \n",
    "wordcloud = WordCloud(font_path='arial.ttf',\n",
    "                          stopwords=STOPWORDS,\n",
    "                          background_color='white',\n",
    "                          width=1200,\n",
    "                          height=1000\n",
    "                         ).generate(final2)\n",
    "\n",
    "\n",
    "plt.imshow(wordcloud)\n",
    "plt.axis('off')\n",
    "plt.show()"
   ]
  },
  {
   "cell_type": "code",
   "execution_count": null,
   "metadata": {
    "collapsed": true
   },
   "outputs": [],
   "source": []
  }
 ],
 "metadata": {
  "anaconda-cloud": {},
  "kernelspec": {
   "display_name": "Python [Root]",
   "language": "python",
   "name": "Python [Root]"
  },
  "language_info": {
   "codemirror_mode": {
    "name": "ipython",
    "version": 3
   },
   "file_extension": ".py",
   "mimetype": "text/x-python",
   "name": "python",
   "nbconvert_exporter": "python",
   "pygments_lexer": "ipython3",
   "version": "3.5.2"
  }
 },
 "nbformat": 4,
 "nbformat_minor": 0
}
